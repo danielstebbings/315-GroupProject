{
 "cells": [
  {
   "cell_type": "markdown",
   "id": "b739ba42-8d82-40ef-aee4-bc1b13426245",
   "metadata": {},
   "source": [
    "### PS Skeletonisation"
   ]
  },
  {
   "cell_type": "markdown",
   "id": "8c45b1b7-b5fa-42f8-909e-899de117842d",
   "metadata": {},
   "source": [
    "This section of code shows how it is possible to run a skeleton filter in OpenCV without any HWA. It also provides a timer to show the time it takes to operate.\n",
    "To run:\n",
    "- Change the img_og line to any image in the cwd\n",
    "- If the image is already a greyscale,  uncomment the commented out line and deleted the preceeding 5 lines"
   ]
  },
  {
   "cell_type": "code",
   "execution_count": 7,
   "id": "c3bc0d9a-d1bd-4df6-9b38-a8307937bae1",
   "metadata": {},
   "outputs": [
    {
     "name": "stdout",
     "output_type": "stream",
     "text": [
      "--- 9.036144733428955 seconds ---\n"
     ]
    }
   ],
   "source": [
    "import os\n",
    "import cv2\n",
    "import numpy as np\n",
    "import time\n",
    "\n",
    "#timer \n",
    "start_time = time.time()\n",
    "\n",
    "# Load img and resize to look nice\n",
    "img_og = cv2.imread(os.path.join('.', 'pixel_art_girl.jpg')) # CHANGE THIS\n",
    "img = cv2.resize(img_og, (960, 960)) # Only use if the image is larger than 960x960 and is in a 1:1 format\n",
    "# If the image is fine as it is, delete the img line and rename img_og -> img\n",
    "# If another aspect ratio is used, change the value to something that fits that ratio\n",
    "\n",
    "# Convert to grayscale\n",
    "gray_img = cv2.cvtColor(img, cv2.COLOR_BGR2GRAY)\n",
    "\n",
    "# If already grayscaled, delete above and use this\n",
    "# img = cv2.imread(os.path.join('.', YOUR_IMAGE_HERE)\n",
    "\n",
    "# Info\n",
    "size = np.size(gray_img)\n",
    "skel = np.zeros(gray_img.shape, np.uint8)\n",
    "\n",
    "ret, gray_img = cv2.threshold(gray_img, 127, 255, 0) # change all values 127 ~ 255 to 0\n",
    "element = cv2.getStructuringElement(cv2.MORPH_CROSS, (3,3))\n",
    "done = False\n",
    "\n",
    "while(not done):\n",
    "    eroded =  cv2.erode(gray_img, element)\n",
    "    temp = cv2.dilate(eroded, element)\n",
    "    temp = cv2.subtract(gray_img, temp)\n",
    "    skel = cv2.bitwise_or(skel, temp)\n",
    "    gray_img = eroded.copy()\n",
    "\n",
    "    zeros = size - cv2.countNonZero(gray_img)\n",
    "    if zeros == size:\n",
    "        done = True\n",
    "\n",
    "cv2.imwrite(os.path.join('.', 'girl_out.jpg'), skel)\n",
    "print(\"--- %s seconds ---\" % (time.time() - start_time))"
   ]
  },
  {
   "cell_type": "markdown",
   "id": "ae6587f4-adb6-408b-9907-693a9a333758",
   "metadata": {},
   "source": [
    "The process of this code is:\n",
    "* Find and specify path of image\n",
    "* Resize for convenience sake so that it is easier to view\n",
    "* Convert the image to a greyscale\n",
    "* Derive the necerssary information from the greyscale then transform it into binary\n",
    "    - If it is below the threshold of 127, it will transform to a 0\n",
    "    - Otherwise, it will become 255 (the max value)\n",
    "        - The reason for changing it to max instead of a binary 1 is for visualisation reasons, otherwise it would be too dark to see\n",
    "* While loop contains the skeletonisation filter\n",
    "    - Loop and erode over and over again until there is no more changes\n",
    "    - It erodes than dilates images with an OR statement to create the skeleton filter\n",
    "   \n",
    "* Output code out in seperate file\n",
    "* Timer to visualise how long it takes on a pure PS implementation"
   ]
  },
  {
   "cell_type": "markdown",
   "id": "ee42d84f-9b3a-427d-8069-336599b291a6",
   "metadata": {},
   "source": [
    "\n"
   ]
  }
 ],
 "metadata": {
  "kernelspec": {
   "display_name": "Python 3",
   "language": "python",
   "name": "python3"
  },
  "language_info": {
   "codemirror_mode": {
    "name": "ipython",
    "version": 3
   },
   "file_extension": ".py",
   "mimetype": "text/x-python",
   "name": "python",
   "nbconvert_exporter": "python",
   "pygments_lexer": "ipython3",
   "version": "3.8.2"
  }
 },
 "nbformat": 4,
 "nbformat_minor": 5
}

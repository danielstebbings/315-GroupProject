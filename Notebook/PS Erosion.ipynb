{
 "cells": [
  {
   "cell_type": "markdown",
   "id": "d713e736-24fb-4043-bdce-de229e5be205",
   "metadata": {},
   "source": [
    "### PS erosion\n",
    "This section of code will demonstrate how it is possible to run an erosion filter without any HWA"
   ]
  },
  {
   "cell_type": "code",
   "execution_count": 8,
   "id": "6ab2856e-423b-4e19-89bd-d9b6805cefea",
   "metadata": {},
   "outputs": [
    {
     "name": "stdout",
     "output_type": "stream",
     "text": [
      "Time taken: 0.9610340595245361 seconds \n"
     ]
    }
   ],
   "source": [
    "import os\n",
    "import cv2\n",
    "import numpy as np\n",
    "import time\n",
    "\n",
    "#timer \n",
    "start_time = time.time()\n",
    "\n",
    "# Load img and resize to look nice\n",
    "img_og = cv2.imread(os.path.join('.', 'pixel_art_girl.jpg')) # CHANGE THIS\n",
    "img = cv2.resize(img_og, (960, 960)) # Only use if the image is larger than 960x960 and is in a 1:1 format\n",
    "# If the image is fine as it is, delete the img line and rename img_og -> img\n",
    "# If another aspect ratio is used, change the value to something that fits that ratio\n",
    "\n",
    "# Convert to binary\n",
    "gray_img = cv2.cvtColor(img, cv2.COLOR_BGR2GRAY)\n",
    "ret, gray_img = cv2.threshold(gray_img, 127, 255, 0)\n",
    "\n",
    "# If already grayscaled, delete above and use this\n",
    "# img = cv2.imread(os.path.join('.', YOUR_IMAGE_HERE)\n",
    "\n",
    "# Info\n",
    "kernal = np.ones((5, 5), np.uint8)\n",
    "\n",
    "eroded_image = cv2.erode(gray_img, kernal)\n",
    "\n",
    "cv2.imwrite(os.path.join('.', 'girl_out_erode.jpg'), eroded_image)\n",
    "print(\"Time taken: %s seconds \" % (time.time() - start_time))"
   ]
  },
  {
   "cell_type": "markdown",
   "id": "646b09b6-6a73-4f26-bbf4-ed3ef398302a",
   "metadata": {},
   "source": [
    "The process of this code is:\n",
    "* Find and specify path of image\n",
    "* Resize for convenience sake so that it is easier to view\n",
    "* Convert the image to a greyscale\n",
    "* Derive the necerssary information from the greyscale then transform it into binary\n",
    "    - If it is below the threshold of 127, it will transform to a 0\n",
    "    - Otherwise, it will become 255 (the max value)\n",
    "        - The reason for changing it to max instead of a binary 1 is for visualisation reasons, otherwise it would be too dark to see\n",
    "* Apply single layer of erosion filter   \n",
    "* Output final image out in seperate file\n",
    "* Timer to visualise how long it takes on a pure PS implementation"
   ]
  },
  {
   "cell_type": "code",
   "execution_count": null,
   "id": "7aafafcb-0ccd-425f-95b5-c53a0c30b9c0",
   "metadata": {},
   "outputs": [],
   "source": []
  }
 ],
 "metadata": {
  "kernelspec": {
   "display_name": "Python 3",
   "language": "python",
   "name": "python3"
  },
  "language_info": {
   "codemirror_mode": {
    "name": "ipython",
    "version": 3
   },
   "file_extension": ".py",
   "mimetype": "text/x-python",
   "name": "python",
   "nbconvert_exporter": "python",
   "pygments_lexer": "ipython3",
   "version": "3.8.2"
  }
 },
 "nbformat": 4,
 "nbformat_minor": 5
}

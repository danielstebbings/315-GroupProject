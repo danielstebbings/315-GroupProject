{
 "cells": [
  {
   "cell_type": "markdown",
   "id": "94a579d3-26aa-4e65-8202-b61625ea887f",
   "metadata": {},
   "source": [
    "### PS basic Skeletonisation\n",
    "This section of code shows how it is possible to run a skeleton filter, that runs similar to the HWA version we created, in OpenCV without any HWA. It also provides a timer to show the time it takes to operate."
   ]
  },
  {
   "cell_type": "code",
   "execution_count": null,
   "id": "d530e85f-75c9-4cd7-8803-06b796ac68a3",
   "metadata": {},
   "outputs": [],
   "source": [
    "import numpy as np\n",
    "import time\n",
    "\n",
    "#timer \n",
    "start_time = time.time()\n",
    "\n",
    "# Load img and resize to look nice\n",
    "img_og = cv2.imread(os.path.join('.', 'pixel_art_girl.jpg')) # CHANGE THIS\n",
    "img = cv2.resize(img_og, (960, 960)) # Only use if the image is larger than 960x960 and is in a 1:1 format\n",
    "# If the image is fine as it is, delete the img line and rename img_og -> img\n",
    "# If another aspect ratio is used, change the value to something that fits that ratio\n",
    "\n",
    "# Convert to grayscale\n",
    "gray_img = cv2.cvtColor(img, cv2.COLOR_BGR2GRAY)\n",
    "\n",
    "# If already grayscaled, delete above and use this\n",
    "# img = cv2.imread(os.path.join('.', YOUR_IMAGE_HERE)\n",
    "\n",
    "# Info\n",
    "size = np.size(gray_img)\n",
    "skel = np.zeros(gray_img.shape, np.uint8)\n",
    "\n",
    "ret, gray_img = cv2.threshold(gray_img, 127, 255, 0) # change all values 127 ~ 255 to 0\n",
    "element = cv2.getStructuringElement(cv2.MORPH_CROSS, (3,3))\n",
    "iterations = 0\n",
    "\n",
    "while(iterations < 2):\n",
    "    eroded =  cv2.erode(gray_img, element)\n",
    "    temp = cv2.dilate(eroded, element)\n",
    "    temp = cv2.subtract(gray_img, temp)\n",
    "    skel = cv2.bitwise_or(skel, temp)\n",
    "    gray_img = eroded.copy()\n",
    "\n",
    "    zeros = size - cv2.countNonZero(gray_img)\n",
    "    if zeros == size:\n",
    "        iterations =3\n",
    "        \n",
    "    iterations =+ 1\n",
    "\n",
    "cv2.imwrite(os.path.join('.', 'girl_out.jpg'), skel)\n",
    "print(\"Time taken: %s seconds \" % (time.time() - start_time))"
   ]
  },
  {
   "cell_type": "code",
   "execution_count": null,
   "id": "bbf195fd-0222-475f-816b-333d012b3b07",
   "metadata": {},
   "outputs": [],
   "source": []
  }
 ],
 "metadata": {
  "kernelspec": {
   "display_name": "Python 3",
   "language": "python",
   "name": "python3"
  },
  "language_info": {
   "codemirror_mode": {
    "name": "ipython",
    "version": 3
   },
   "file_extension": ".py",
   "mimetype": "text/x-python",
   "name": "python",
   "nbconvert_exporter": "python",
   "pygments_lexer": "ipython3",
   "version": "3.8.2"
  }
 },
 "nbformat": 4,
 "nbformat_minor": 5
}

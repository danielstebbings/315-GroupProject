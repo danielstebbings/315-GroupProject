{
 "cells": [
  {
   "cell_type": "markdown",
   "id": "3d8c2091-9231-4861-aa6a-0a90420d0afe",
   "metadata": {},
   "source": [
    "### PS binary image\n",
    "This section of code will demonstrate how to take an image and transform it to a binary image. For the sake of visualisation, we are going to assume all values below the threshold of 128 go to 0, and the rest to 255. This is because 255 is the max value possible and the brightest; therefore, transforming the image to a binary image. We are going to assume the image is in a 1:1 aspect ratio."
   ]
  },
  {
   "cell_type": "code",
   "execution_count": 1,
   "id": "94e8f70d-974a-4b11-b6e7-5f93bc10f60b",
   "metadata": {},
   "outputs": [
    {
     "name": "stdout",
     "output_type": "stream",
     "text": [
      "Time taken: 1.0473811626434326 seconds \n"
     ]
    }
   ],
   "source": [
    "import os\n",
    "import cv2\n",
    "import numpy as np\n",
    "import time\n",
    "\n",
    "#timer \n",
    "start_time = time.time()\n",
    "\n",
    "# Load img and resize to look nice\n",
    "img_og = cv2.imread(os.path.join('.', 'pixel_art_girl.jpg')) # CHANGE THIS\n",
    "img = cv2.resize(img_og, (960, 960)) # Only use if the image is larger than 960x960 and is in a 1:1 format\n",
    "\n",
    "# Convert to binary\n",
    "gray_img = cv2.cvtColor(img, cv2.COLOR_BGR2GRAY)\n",
    "ret, gray_img = cv2.threshold(gray_img, 127, 255, 0)\n",
    "\n",
    "cv2.imwrite(os.path.join('.', 'girl_out_binary.jpg'), gray_img)\n",
    "print(\"Time taken: %s seconds \" % (time.time() - start_time))"
   ]
  },
  {
   "cell_type": "markdown",
   "id": "81365ad8-aaed-496f-bb94-f429d6abb63a",
   "metadata": {},
   "source": [
    "The process of this code is:\n",
    "* Find and specify path of image\n",
    "* Resize for convenience sake so that it is easier to view\n",
    "* Convert the image to a greyscale\n",
    "* Derive the necerssary information from the greyscale then transform it into binary\n",
    "    - If it is below the threshold of 127, it will transform to a 0\n",
    "    - Otherwise, it will become 255 (the max value)\n",
    "        - The reason for changing it to max instead of a binary 1 is for visualisation reasons, otherwise it would be too dark to see\n",
    "* Output final image out in seperate file\n",
    "* Timer to visualise how long it takes on a pure PS implementation"
   ]
  },
  {
   "cell_type": "code",
   "execution_count": null,
   "id": "07d12070-110d-4c4d-af6d-71a9b98941cd",
   "metadata": {},
   "outputs": [],
   "source": []
  }
 ],
 "metadata": {
  "kernelspec": {
   "display_name": "Python 3",
   "language": "python",
   "name": "python3"
  },
  "language_info": {
   "codemirror_mode": {
    "name": "ipython",
    "version": 3
   },
   "file_extension": ".py",
   "mimetype": "text/x-python",
   "name": "python",
   "nbconvert_exporter": "python",
   "pygments_lexer": "ipython3",
   "version": "3.8.2"
  }
 },
 "nbformat": 4,
 "nbformat_minor": 5
}
